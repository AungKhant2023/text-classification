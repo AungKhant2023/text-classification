{
  "cells": [
    {
      "cell_type": "code",
      "source": [
        "from google.colab import drive\n",
        "drive.mount('/content/drive')"
      ],
      "metadata": {
        "colab": {
          "base_uri": "https://localhost:8080/"
        },
        "id": "ioOVbxuf9RG2",
        "outputId": "2b9b8f7b-3490-4045-8a37-6abf06d54895"
      },
      "id": "ioOVbxuf9RG2",
      "execution_count": 2,
      "outputs": [
        {
          "output_type": "stream",
          "name": "stdout",
          "text": [
            "Drive already mounted at /content/drive; to attempt to forcibly remount, call drive.mount(\"/content/drive\", force_remount=True).\n"
          ]
        }
      ]
    },
    {
      "cell_type": "code",
      "source": [
        "# !pip install mlflow\n",
        "# !pip install boto3"
      ],
      "metadata": {
        "id": "OGcCJkWQXKYs"
      },
      "id": "OGcCJkWQXKYs",
      "execution_count": 3,
      "outputs": []
    },
    {
      "cell_type": "code",
      "execution_count": 4,
      "id": "ffdef688",
      "metadata": {
        "id": "ffdef688"
      },
      "outputs": [],
      "source": [
        "import pandas as pd\n",
        "import numpy as np\n",
        "import imblearn\n",
        "from matplotlib import pyplot as plt\n",
        "from sklearn.model_selection import train_test_split\n",
        "from sklearn.svm import LinearSVC\n",
        "from sklearn.metrics import classification_report, confusion_matrix,accuracy_score\n",
        "from imblearn.over_sampling import SMOTE,RandomOverSampler\n",
        "from sklearn.feature_extraction.text import TfidfVectorizer\n",
        "import mlflow\n",
        "import mlflow.sklearn\n",
        "import os\n",
        "import joblib"
      ]
    },
    {
      "cell_type": "code",
      "source": [
        "os.environ['MLFLOW_S3_ENDPOINT_URL'] = 'http://172.236.130.98:9000'\n",
        "os.environ['AWS_ACCESS_KEY_ID'] = 'minioadmin'\n",
        "os.environ['AWS_SECRET_ACCESS_KEY'] = 'hfdH73jf8dff3E'\n",
        "os.environ['MLFLOW_S3_IGNORE_TLS'] = 'true'\n",
        "\n",
        "mlflow.set_tracking_uri('http://172.236.130.98:5000')\n",
        "mlflow.set_experiment('lmb Experiment')\n",
        "\n",
        "mlflow.sklearn.autolog()"
      ],
      "metadata": {
        "id": "MeLWGdUaW0Mn"
      },
      "id": "MeLWGdUaW0Mn",
      "execution_count": 5,
      "outputs": []
    },
    {
      "cell_type": "code",
      "source": [
        "data_path = \"/content/drive/MyDrive/Datasets/Dataset_12.5.2025.csv\"\n",
        "dict_path = \"/content/drive/MyDrive/Datasets/dict-words.txt\"\n",
        "sw_path = \"/content/drive/MyDrive/Datasets/sw.txt\""
      ],
      "metadata": {
        "id": "Xwhp-1ID99Hz"
      },
      "id": "Xwhp-1ID99Hz",
      "execution_count": 6,
      "outputs": []
    },
    {
      "cell_type": "code",
      "execution_count": 7,
      "id": "292a0683",
      "metadata": {
        "id": "292a0683"
      },
      "outputs": [],
      "source": [
        "data = pd.read_csv(data_path, encoding='utf-8')"
      ]
    },
    {
      "cell_type": "code",
      "execution_count": 8,
      "id": "c12d6b42",
      "metadata": {
        "colab": {
          "base_uri": "https://localhost:8080/",
          "height": 423
        },
        "id": "c12d6b42",
        "outputId": "c2b1581a-cd92-4539-d580-ff9867137695"
      },
      "outputs": [
        {
          "output_type": "execute_result",
          "data": {
            "text/plain": [
              "                                                Sentence          Label\n",
              "0      BRI နိုင်ငံများ အပြန်အလှန် ရင်းနှီးမြှုပ်နှံမှ...       Business\n",
              "1      ရှမ်းပြည်နယ်မြောက်ပိုင်း မူဆယ်နယ်မြို့ ရှိ ဆင်...       Business\n",
              "2      ယခုကဲ့သို့ သယ်ဆောင်ခွင့်ပြု ရာ တွင် လည်း ထောက်...       Business\n",
              "3      ထိုသို့ မီးဖိုချောင်သုံးအသီးအနှံ အသားငါးများ က...       Business\n",
              "4      မူဆယ်နယ်စပ်ကုန်သည်တဦး က နိုဝင်ဘာ ၂၉ ရက်မှာ စာရ...       Business\n",
              "...                                                  ...            ...\n",
              "93491  Sir Paul said there's nothing bigger than bein...  Entertainment\n",
              "93492  The ruling meant the movie was not eligible to...  Entertainment\n",
              "93493  Rapper Snoop Dogg sued for rape us rapper Snoo...  Entertainment\n",
              "93494  The woman said she was assaulted after a recor...  Entertainment\n",
              "93495  The rapper's spokesman denied the allegations ...  Entertainment\n",
              "\n",
              "[93496 rows x 2 columns]"
            ],
            "text/html": [
              "\n",
              "  <div id=\"df-173dc6fe-bf7c-42df-a501-e79c0f54e467\" class=\"colab-df-container\">\n",
              "    <div>\n",
              "<style scoped>\n",
              "    .dataframe tbody tr th:only-of-type {\n",
              "        vertical-align: middle;\n",
              "    }\n",
              "\n",
              "    .dataframe tbody tr th {\n",
              "        vertical-align: top;\n",
              "    }\n",
              "\n",
              "    .dataframe thead th {\n",
              "        text-align: right;\n",
              "    }\n",
              "</style>\n",
              "<table border=\"1\" class=\"dataframe\">\n",
              "  <thead>\n",
              "    <tr style=\"text-align: right;\">\n",
              "      <th></th>\n",
              "      <th>Sentence</th>\n",
              "      <th>Label</th>\n",
              "    </tr>\n",
              "  </thead>\n",
              "  <tbody>\n",
              "    <tr>\n",
              "      <th>0</th>\n",
              "      <td>BRI နိုင်ငံများ အပြန်အလှန် ရင်းနှီးမြှုပ်နှံမှ...</td>\n",
              "      <td>Business</td>\n",
              "    </tr>\n",
              "    <tr>\n",
              "      <th>1</th>\n",
              "      <td>ရှမ်းပြည်နယ်မြောက်ပိုင်း မူဆယ်နယ်မြို့ ရှိ ဆင်...</td>\n",
              "      <td>Business</td>\n",
              "    </tr>\n",
              "    <tr>\n",
              "      <th>2</th>\n",
              "      <td>ယခုကဲ့သို့ သယ်ဆောင်ခွင့်ပြု ရာ တွင် လည်း ထောက်...</td>\n",
              "      <td>Business</td>\n",
              "    </tr>\n",
              "    <tr>\n",
              "      <th>3</th>\n",
              "      <td>ထိုသို့ မီးဖိုချောင်သုံးအသီးအနှံ အသားငါးများ က...</td>\n",
              "      <td>Business</td>\n",
              "    </tr>\n",
              "    <tr>\n",
              "      <th>4</th>\n",
              "      <td>မူဆယ်နယ်စပ်ကုန်သည်တဦး က နိုဝင်ဘာ ၂၉ ရက်မှာ စာရ...</td>\n",
              "      <td>Business</td>\n",
              "    </tr>\n",
              "    <tr>\n",
              "      <th>...</th>\n",
              "      <td>...</td>\n",
              "      <td>...</td>\n",
              "    </tr>\n",
              "    <tr>\n",
              "      <th>93491</th>\n",
              "      <td>Sir Paul said there's nothing bigger than bein...</td>\n",
              "      <td>Entertainment</td>\n",
              "    </tr>\n",
              "    <tr>\n",
              "      <th>93492</th>\n",
              "      <td>The ruling meant the movie was not eligible to...</td>\n",
              "      <td>Entertainment</td>\n",
              "    </tr>\n",
              "    <tr>\n",
              "      <th>93493</th>\n",
              "      <td>Rapper Snoop Dogg sued for rape us rapper Snoo...</td>\n",
              "      <td>Entertainment</td>\n",
              "    </tr>\n",
              "    <tr>\n",
              "      <th>93494</th>\n",
              "      <td>The woman said she was assaulted after a recor...</td>\n",
              "      <td>Entertainment</td>\n",
              "    </tr>\n",
              "    <tr>\n",
              "      <th>93495</th>\n",
              "      <td>The rapper's spokesman denied the allegations ...</td>\n",
              "      <td>Entertainment</td>\n",
              "    </tr>\n",
              "  </tbody>\n",
              "</table>\n",
              "<p>93496 rows × 2 columns</p>\n",
              "</div>\n",
              "    <div class=\"colab-df-buttons\">\n",
              "\n",
              "  <div class=\"colab-df-container\">\n",
              "    <button class=\"colab-df-convert\" onclick=\"convertToInteractive('df-173dc6fe-bf7c-42df-a501-e79c0f54e467')\"\n",
              "            title=\"Convert this dataframe to an interactive table.\"\n",
              "            style=\"display:none;\">\n",
              "\n",
              "  <svg xmlns=\"http://www.w3.org/2000/svg\" height=\"24px\" viewBox=\"0 -960 960 960\">\n",
              "    <path d=\"M120-120v-720h720v720H120Zm60-500h600v-160H180v160Zm220 220h160v-160H400v160Zm0 220h160v-160H400v160ZM180-400h160v-160H180v160Zm440 0h160v-160H620v160ZM180-180h160v-160H180v160Zm440 0h160v-160H620v160Z\"/>\n",
              "  </svg>\n",
              "    </button>\n",
              "\n",
              "  <style>\n",
              "    .colab-df-container {\n",
              "      display:flex;\n",
              "      gap: 12px;\n",
              "    }\n",
              "\n",
              "    .colab-df-convert {\n",
              "      background-color: #E8F0FE;\n",
              "      border: none;\n",
              "      border-radius: 50%;\n",
              "      cursor: pointer;\n",
              "      display: none;\n",
              "      fill: #1967D2;\n",
              "      height: 32px;\n",
              "      padding: 0 0 0 0;\n",
              "      width: 32px;\n",
              "    }\n",
              "\n",
              "    .colab-df-convert:hover {\n",
              "      background-color: #E2EBFA;\n",
              "      box-shadow: 0px 1px 2px rgba(60, 64, 67, 0.3), 0px 1px 3px 1px rgba(60, 64, 67, 0.15);\n",
              "      fill: #174EA6;\n",
              "    }\n",
              "\n",
              "    .colab-df-buttons div {\n",
              "      margin-bottom: 4px;\n",
              "    }\n",
              "\n",
              "    [theme=dark] .colab-df-convert {\n",
              "      background-color: #3B4455;\n",
              "      fill: #D2E3FC;\n",
              "    }\n",
              "\n",
              "    [theme=dark] .colab-df-convert:hover {\n",
              "      background-color: #434B5C;\n",
              "      box-shadow: 0px 1px 3px 1px rgba(0, 0, 0, 0.15);\n",
              "      filter: drop-shadow(0px 1px 2px rgba(0, 0, 0, 0.3));\n",
              "      fill: #FFFFFF;\n",
              "    }\n",
              "  </style>\n",
              "\n",
              "    <script>\n",
              "      const buttonEl =\n",
              "        document.querySelector('#df-173dc6fe-bf7c-42df-a501-e79c0f54e467 button.colab-df-convert');\n",
              "      buttonEl.style.display =\n",
              "        google.colab.kernel.accessAllowed ? 'block' : 'none';\n",
              "\n",
              "      async function convertToInteractive(key) {\n",
              "        const element = document.querySelector('#df-173dc6fe-bf7c-42df-a501-e79c0f54e467');\n",
              "        const dataTable =\n",
              "          await google.colab.kernel.invokeFunction('convertToInteractive',\n",
              "                                                    [key], {});\n",
              "        if (!dataTable) return;\n",
              "\n",
              "        const docLinkHtml = 'Like what you see? Visit the ' +\n",
              "          '<a target=\"_blank\" href=https://colab.research.google.com/notebooks/data_table.ipynb>data table notebook</a>'\n",
              "          + ' to learn more about interactive tables.';\n",
              "        element.innerHTML = '';\n",
              "        dataTable['output_type'] = 'display_data';\n",
              "        await google.colab.output.renderOutput(dataTable, element);\n",
              "        const docLink = document.createElement('div');\n",
              "        docLink.innerHTML = docLinkHtml;\n",
              "        element.appendChild(docLink);\n",
              "      }\n",
              "    </script>\n",
              "  </div>\n",
              "\n",
              "\n",
              "    <div id=\"df-b5e3f731-ae35-405e-a314-203b348082b6\">\n",
              "      <button class=\"colab-df-quickchart\" onclick=\"quickchart('df-b5e3f731-ae35-405e-a314-203b348082b6')\"\n",
              "                title=\"Suggest charts\"\n",
              "                style=\"display:none;\">\n",
              "\n",
              "<svg xmlns=\"http://www.w3.org/2000/svg\" height=\"24px\"viewBox=\"0 0 24 24\"\n",
              "     width=\"24px\">\n",
              "    <g>\n",
              "        <path d=\"M19 3H5c-1.1 0-2 .9-2 2v14c0 1.1.9 2 2 2h14c1.1 0 2-.9 2-2V5c0-1.1-.9-2-2-2zM9 17H7v-7h2v7zm4 0h-2V7h2v10zm4 0h-2v-4h2v4z\"/>\n",
              "    </g>\n",
              "</svg>\n",
              "      </button>\n",
              "\n",
              "<style>\n",
              "  .colab-df-quickchart {\n",
              "      --bg-color: #E8F0FE;\n",
              "      --fill-color: #1967D2;\n",
              "      --hover-bg-color: #E2EBFA;\n",
              "      --hover-fill-color: #174EA6;\n",
              "      --disabled-fill-color: #AAA;\n",
              "      --disabled-bg-color: #DDD;\n",
              "  }\n",
              "\n",
              "  [theme=dark] .colab-df-quickchart {\n",
              "      --bg-color: #3B4455;\n",
              "      --fill-color: #D2E3FC;\n",
              "      --hover-bg-color: #434B5C;\n",
              "      --hover-fill-color: #FFFFFF;\n",
              "      --disabled-bg-color: #3B4455;\n",
              "      --disabled-fill-color: #666;\n",
              "  }\n",
              "\n",
              "  .colab-df-quickchart {\n",
              "    background-color: var(--bg-color);\n",
              "    border: none;\n",
              "    border-radius: 50%;\n",
              "    cursor: pointer;\n",
              "    display: none;\n",
              "    fill: var(--fill-color);\n",
              "    height: 32px;\n",
              "    padding: 0;\n",
              "    width: 32px;\n",
              "  }\n",
              "\n",
              "  .colab-df-quickchart:hover {\n",
              "    background-color: var(--hover-bg-color);\n",
              "    box-shadow: 0 1px 2px rgba(60, 64, 67, 0.3), 0 1px 3px 1px rgba(60, 64, 67, 0.15);\n",
              "    fill: var(--button-hover-fill-color);\n",
              "  }\n",
              "\n",
              "  .colab-df-quickchart-complete:disabled,\n",
              "  .colab-df-quickchart-complete:disabled:hover {\n",
              "    background-color: var(--disabled-bg-color);\n",
              "    fill: var(--disabled-fill-color);\n",
              "    box-shadow: none;\n",
              "  }\n",
              "\n",
              "  .colab-df-spinner {\n",
              "    border: 2px solid var(--fill-color);\n",
              "    border-color: transparent;\n",
              "    border-bottom-color: var(--fill-color);\n",
              "    animation:\n",
              "      spin 1s steps(1) infinite;\n",
              "  }\n",
              "\n",
              "  @keyframes spin {\n",
              "    0% {\n",
              "      border-color: transparent;\n",
              "      border-bottom-color: var(--fill-color);\n",
              "      border-left-color: var(--fill-color);\n",
              "    }\n",
              "    20% {\n",
              "      border-color: transparent;\n",
              "      border-left-color: var(--fill-color);\n",
              "      border-top-color: var(--fill-color);\n",
              "    }\n",
              "    30% {\n",
              "      border-color: transparent;\n",
              "      border-left-color: var(--fill-color);\n",
              "      border-top-color: var(--fill-color);\n",
              "      border-right-color: var(--fill-color);\n",
              "    }\n",
              "    40% {\n",
              "      border-color: transparent;\n",
              "      border-right-color: var(--fill-color);\n",
              "      border-top-color: var(--fill-color);\n",
              "    }\n",
              "    60% {\n",
              "      border-color: transparent;\n",
              "      border-right-color: var(--fill-color);\n",
              "    }\n",
              "    80% {\n",
              "      border-color: transparent;\n",
              "      border-right-color: var(--fill-color);\n",
              "      border-bottom-color: var(--fill-color);\n",
              "    }\n",
              "    90% {\n",
              "      border-color: transparent;\n",
              "      border-bottom-color: var(--fill-color);\n",
              "    }\n",
              "  }\n",
              "</style>\n",
              "\n",
              "      <script>\n",
              "        async function quickchart(key) {\n",
              "          const quickchartButtonEl =\n",
              "            document.querySelector('#' + key + ' button');\n",
              "          quickchartButtonEl.disabled = true;  // To prevent multiple clicks.\n",
              "          quickchartButtonEl.classList.add('colab-df-spinner');\n",
              "          try {\n",
              "            const charts = await google.colab.kernel.invokeFunction(\n",
              "                'suggestCharts', [key], {});\n",
              "          } catch (error) {\n",
              "            console.error('Error during call to suggestCharts:', error);\n",
              "          }\n",
              "          quickchartButtonEl.classList.remove('colab-df-spinner');\n",
              "          quickchartButtonEl.classList.add('colab-df-quickchart-complete');\n",
              "        }\n",
              "        (() => {\n",
              "          let quickchartButtonEl =\n",
              "            document.querySelector('#df-b5e3f731-ae35-405e-a314-203b348082b6 button');\n",
              "          quickchartButtonEl.style.display =\n",
              "            google.colab.kernel.accessAllowed ? 'block' : 'none';\n",
              "        })();\n",
              "      </script>\n",
              "    </div>\n",
              "    </div>\n",
              "  </div>\n"
            ],
            "application/vnd.google.colaboratory.intrinsic+json": {
              "type": "dataframe",
              "summary": "{\n  \"name\": \"data\",\n  \"rows\": 93496,\n  \"fields\": [\n    {\n      \"column\": \"Sentence\",\n      \"properties\": {\n        \"dtype\": \"string\",\n        \"num_unique_values\": 89284,\n        \"samples\": [\n          \"\\u101a\\u1031\\u102c\\u1000\\u103a\\u103b\\u102c\\u1038 \\u1010\\u103d\\u1031 \\u1015\\u1032 \\u1000\\u103d\\u102c \\u1018\\u102c\\u1019\\u103e \\u1019\\u1030\\u1019\\u1014\\u1031\\u1014\\u1032\\u1037 \\u1016\\u1004\\u103a\\u101c\\u102d\\u102f\\u1038 \\u1000\\u103c\\u1019\\u101a\\u103a\",\n          \"DG Baccarat \\u1014\\u1032\\u1037 \\u1021\\u1010\\u100a\\u103a\\u1021\\u1000\\u103c\\u100a\\u103a \\u1010\\u1021\\u102c\\u1038\\u1019\\u103c\\u1010\\u103a\\u101e\\u103d\\u102c\\u1038 \\u1010\\u1032\\u1037 \\u1019\\u1014\\u103a\\u1018\\u102c \\u101c\\u1031\\u1038 TTR \\u1000\\u1010\\u1031\\u102c\\u1037 505000 ks \\u1011\\u102f\\u1015\\u103a\\u101e\\u103d\\u102c\\u1038\\u1010\\u102c \\u1018\\u1032 \\u1016\\u103c\\u1005\\u103a\\u1015\\u102b\\u1010\\u101a\\u103a \\u101b\\u103e\\u1004\\u103a\\u1037\",\n          \"\\u1000\\u103b\\u103d\\u1032\\u1002\\u102d\\u1019\\u103a\\u1038 \\u1000\\u1011\\u1015\\u103a\\u1015\\u103c\\u102e\\u1038 1,500,000 \\u101e\\u102d\\u1014\\u103a\\u1038 \\u1010\\u1005\\u103a\\u1001\\u102b\\u1010\\u100a\\u103a\\u1038\\u1015\\u1031\\u102b\\u1000\\u103a\\u101e\\u103d\\u102c\\u1038\\u1015\\u103c\\u102e\"\n        ],\n        \"semantic_type\": \"\",\n        \"description\": \"\"\n      }\n    },\n    {\n      \"column\": \"Label\",\n      \"properties\": {\n        \"dtype\": \"category\",\n        \"num_unique_values\": 13,\n        \"samples\": [\n          \"Entertainment\",\n          \"Political\",\n          \"Business\"\n        ],\n        \"semantic_type\": \"\",\n        \"description\": \"\"\n      }\n    }\n  ]\n}"
            }
          },
          "metadata": {},
          "execution_count": 8
        }
      ],
      "source": [
        "data.drop(['Index'], axis=1)"
      ]
    },
    {
      "cell_type": "code",
      "execution_count": 9,
      "id": "88f24256",
      "metadata": {
        "colab": {
          "base_uri": "https://localhost:8080/"
        },
        "id": "88f24256",
        "outputId": "2dd3df6c-bb18-4f12-c0da-ac2eb7218d06"
      },
      "outputs": [
        {
          "output_type": "stream",
          "name": "stderr",
          "text": [
            "[nltk_data] Downloading package stopwords to /root/nltk_data...\n",
            "[nltk_data]   Package stopwords is already up-to-date!\n"
          ]
        }
      ],
      "source": [
        "# preprocessor.py\n",
        "import re\n",
        "from nltk.stem import SnowballStemmer\n",
        "import nltk\n",
        "from nltk.corpus import stopwords\n",
        "\n",
        "nltk.download('stopwords')\n",
        "stemmer = SnowballStemmer(\"english\")\n",
        "english_stopwords = set(stopwords.words('english'))\n",
        "\n",
        "def stem_tokens(tokens):\n",
        "    return [stemmer.stem(token) for token in tokens]\n",
        "\n",
        "class MyanmarTextPreprocessor():\n",
        "    def __init__(self, dict_path: str, stop_path: str):\n",
        "        self.dictionary = self.load_dictionary(dict_path)\n",
        "        self.stopwords = self.load_stopwords(stop_path)\n",
        "\n",
        "    def load_dictionary(self, dict_path):\n",
        "        dictionary = set()\n",
        "        with open(dict_path, 'r', encoding='utf-8') as f:\n",
        "            for line in f:\n",
        "                word = line.strip()\n",
        "                if word:\n",
        "                    dictionary.add(word)\n",
        "        return dictionary\n",
        "\n",
        "    def load_stopwords(self, stopword_path):\n",
        "        stopwords = set()\n",
        "        with open(stopword_path, 'r', encoding='utf-8') as f:\n",
        "            for line in f:\n",
        "                word = line.strip()\n",
        "                if word:\n",
        "                    stopwords.add(word)\n",
        "        return stopwords\n",
        "\n",
        "    def merge_with_dictionary(self, syllables):\n",
        "        merged_tokens = []\n",
        "        i = 0\n",
        "        while i < len(syllables):\n",
        "            matched = False\n",
        "            for j in range(len(syllables), i, -1):\n",
        "                combined = ''.join(syllables[i:j])\n",
        "                if combined in self.dictionary:\n",
        "                    merged_tokens.append(combined)\n",
        "                    i = j\n",
        "                    matched = True\n",
        "                    break\n",
        "            if not matched:\n",
        "                merged_tokens.append(syllables[i])\n",
        "                i += 1\n",
        "        return merged_tokens\n",
        "\n",
        "    def preprocessing(self, text: str):\n",
        "        text = re.sub(r\"(([A-Za-z0-9]+)|[က-အ|ဥ|ဦ](င်္|[က-အ][ှ]*[့း]*[်]|္[က-အ]|[ါ-ှႏꩻ][ꩻ]*){0,}|.)\", r\"\\1 \", text)\n",
        "        text = ' '.join(stem_tokens(text.split()))\n",
        "        text = text.strip().split()\n",
        "        merged_tokens = self.merge_with_dictionary(text)\n",
        "        filtered_tokens = [token for token in merged_tokens if token not in self.stopwords]\n",
        "        filtered_tokens= [token for token in filtered_tokens if token not in english_stopwords]\n",
        "        return ' '.join(filtered_tokens)\n",
        "\n",
        "\n",
        "map_label = {\n",
        "    'Social': 0,\n",
        "    'Entertainment': 1,\n",
        "    'Product&Service': 2,\n",
        "    'Business': 3,\n",
        "    'Sports': 4,\n",
        "    'Science&Technology': 5,\n",
        "    'Education': 6,\n",
        "    'Culture&History': 7,\n",
        "    'Health': 8,\n",
        "    'Environmental': 9,\n",
        "    'Political': 10,\n",
        "    'Gambling': 11,\n",
        "    'Adult Content': 12,\n",
        "}\n",
        "\n"
      ]
    },
    {
      "cell_type": "code",
      "execution_count": 10,
      "id": "33c488c0",
      "metadata": {
        "id": "33c488c0"
      },
      "outputs": [],
      "source": [
        "preprocessor = MyanmarTextPreprocessor(dict_path, sw_path)\n",
        "data['encoded_Sentence'] = data['Sentence'].apply(preprocessor.preprocessing)\n"
      ]
    },
    {
      "cell_type": "code",
      "execution_count": 11,
      "id": "447669f6",
      "metadata": {
        "colab": {
          "base_uri": "https://localhost:8080/"
        },
        "id": "447669f6",
        "outputId": "6bb75770-2592-4167-9419-6bf232c39ea1"
      },
      "outputs": [
        {
          "output_type": "stream",
          "name": "stdout",
          "text": [
            "Label\n",
            "Product&Service       9962\n",
            "Political             9835\n",
            "Business              9166\n",
            "Health                8978\n",
            "Sports                8217\n",
            "Culture&History       7976\n",
            "Education             7395\n",
            "Social                7196\n",
            "Entertainment         6972\n",
            "Science&Technology    5187\n",
            "Environmental         5098\n",
            "Gambling              4416\n",
            "Adult Content         3098\n",
            "Name: count, dtype: int64\n"
          ]
        }
      ],
      "source": [
        "data['encoded_Label'] = data['Label'].map(map_label)\n",
        "count = data['Label'].value_counts()\n",
        "print(count)"
      ]
    },
    {
      "cell_type": "code",
      "execution_count": 12,
      "id": "24dbfe8d",
      "metadata": {
        "colab": {
          "base_uri": "https://localhost:8080/",
          "height": 143
        },
        "id": "24dbfe8d",
        "outputId": "4fa583db-3e21-45c5-c860-78dda0fee7f6"
      },
      "outputs": [
        {
          "output_type": "execute_result",
          "data": {
            "text/plain": [
              "   Index                                           Sentence     Label  \\\n",
              "0      0  BRI နိုင်ငံများ အပြန်အလှန် ရင်းနှီးမြှုပ်နှံမှ...  Business   \n",
              "1      1  ရှမ်းပြည်နယ်မြောက်ပိုင်း မူဆယ်နယ်မြို့ ရှိ ဆင်...  Business   \n",
              "2      2  ယခုကဲ့သို့ သယ်ဆောင်ခွင့်ပြု ရာ တွင် လည်း ထောက်...  Business   \n",
              "\n",
              "                                    encoded_Sentence  encoded_Label  \n",
              "0  bri နိုင်ငံ အပြန်အလှန် ရင်းနှီးမြှုပ်နှံမှု ဆက...              3  \n",
              "1  ရှမ်းပြည်နယ် မြောက် မူ ဆင် ဖြူ ဂိတ် စက်သုံးဆီ ...              3  \n",
              "2  ယခု ကဲ့သို့ သယ်ဆောင် ခွင့်ပြု ရာတွင် ထောက်ခံ မ...              3  "
            ],
            "text/html": [
              "\n",
              "  <div id=\"df-5e037855-1499-4f3d-bad9-074ef873436e\" class=\"colab-df-container\">\n",
              "    <div>\n",
              "<style scoped>\n",
              "    .dataframe tbody tr th:only-of-type {\n",
              "        vertical-align: middle;\n",
              "    }\n",
              "\n",
              "    .dataframe tbody tr th {\n",
              "        vertical-align: top;\n",
              "    }\n",
              "\n",
              "    .dataframe thead th {\n",
              "        text-align: right;\n",
              "    }\n",
              "</style>\n",
              "<table border=\"1\" class=\"dataframe\">\n",
              "  <thead>\n",
              "    <tr style=\"text-align: right;\">\n",
              "      <th></th>\n",
              "      <th>Index</th>\n",
              "      <th>Sentence</th>\n",
              "      <th>Label</th>\n",
              "      <th>encoded_Sentence</th>\n",
              "      <th>encoded_Label</th>\n",
              "    </tr>\n",
              "  </thead>\n",
              "  <tbody>\n",
              "    <tr>\n",
              "      <th>0</th>\n",
              "      <td>0</td>\n",
              "      <td>BRI နိုင်ငံများ အပြန်အလှန် ရင်းနှီးမြှုပ်နှံမှ...</td>\n",
              "      <td>Business</td>\n",
              "      <td>bri နိုင်ငံ အပြန်အလှန် ရင်းနှီးမြှုပ်နှံမှု ဆက...</td>\n",
              "      <td>3</td>\n",
              "    </tr>\n",
              "    <tr>\n",
              "      <th>1</th>\n",
              "      <td>1</td>\n",
              "      <td>ရှမ်းပြည်နယ်မြောက်ပိုင်း မူဆယ်နယ်မြို့ ရှိ ဆင်...</td>\n",
              "      <td>Business</td>\n",
              "      <td>ရှမ်းပြည်နယ် မြောက် မူ ဆင် ဖြူ ဂိတ် စက်သုံးဆီ ...</td>\n",
              "      <td>3</td>\n",
              "    </tr>\n",
              "    <tr>\n",
              "      <th>2</th>\n",
              "      <td>2</td>\n",
              "      <td>ယခုကဲ့သို့ သယ်ဆောင်ခွင့်ပြု ရာ တွင် လည်း ထောက်...</td>\n",
              "      <td>Business</td>\n",
              "      <td>ယခု ကဲ့သို့ သယ်ဆောင် ခွင့်ပြု ရာတွင် ထောက်ခံ မ...</td>\n",
              "      <td>3</td>\n",
              "    </tr>\n",
              "  </tbody>\n",
              "</table>\n",
              "</div>\n",
              "    <div class=\"colab-df-buttons\">\n",
              "\n",
              "  <div class=\"colab-df-container\">\n",
              "    <button class=\"colab-df-convert\" onclick=\"convertToInteractive('df-5e037855-1499-4f3d-bad9-074ef873436e')\"\n",
              "            title=\"Convert this dataframe to an interactive table.\"\n",
              "            style=\"display:none;\">\n",
              "\n",
              "  <svg xmlns=\"http://www.w3.org/2000/svg\" height=\"24px\" viewBox=\"0 -960 960 960\">\n",
              "    <path d=\"M120-120v-720h720v720H120Zm60-500h600v-160H180v160Zm220 220h160v-160H400v160Zm0 220h160v-160H400v160ZM180-400h160v-160H180v160Zm440 0h160v-160H620v160ZM180-180h160v-160H180v160Zm440 0h160v-160H620v160Z\"/>\n",
              "  </svg>\n",
              "    </button>\n",
              "\n",
              "  <style>\n",
              "    .colab-df-container {\n",
              "      display:flex;\n",
              "      gap: 12px;\n",
              "    }\n",
              "\n",
              "    .colab-df-convert {\n",
              "      background-color: #E8F0FE;\n",
              "      border: none;\n",
              "      border-radius: 50%;\n",
              "      cursor: pointer;\n",
              "      display: none;\n",
              "      fill: #1967D2;\n",
              "      height: 32px;\n",
              "      padding: 0 0 0 0;\n",
              "      width: 32px;\n",
              "    }\n",
              "\n",
              "    .colab-df-convert:hover {\n",
              "      background-color: #E2EBFA;\n",
              "      box-shadow: 0px 1px 2px rgba(60, 64, 67, 0.3), 0px 1px 3px 1px rgba(60, 64, 67, 0.15);\n",
              "      fill: #174EA6;\n",
              "    }\n",
              "\n",
              "    .colab-df-buttons div {\n",
              "      margin-bottom: 4px;\n",
              "    }\n",
              "\n",
              "    [theme=dark] .colab-df-convert {\n",
              "      background-color: #3B4455;\n",
              "      fill: #D2E3FC;\n",
              "    }\n",
              "\n",
              "    [theme=dark] .colab-df-convert:hover {\n",
              "      background-color: #434B5C;\n",
              "      box-shadow: 0px 1px 3px 1px rgba(0, 0, 0, 0.15);\n",
              "      filter: drop-shadow(0px 1px 2px rgba(0, 0, 0, 0.3));\n",
              "      fill: #FFFFFF;\n",
              "    }\n",
              "  </style>\n",
              "\n",
              "    <script>\n",
              "      const buttonEl =\n",
              "        document.querySelector('#df-5e037855-1499-4f3d-bad9-074ef873436e button.colab-df-convert');\n",
              "      buttonEl.style.display =\n",
              "        google.colab.kernel.accessAllowed ? 'block' : 'none';\n",
              "\n",
              "      async function convertToInteractive(key) {\n",
              "        const element = document.querySelector('#df-5e037855-1499-4f3d-bad9-074ef873436e');\n",
              "        const dataTable =\n",
              "          await google.colab.kernel.invokeFunction('convertToInteractive',\n",
              "                                                    [key], {});\n",
              "        if (!dataTable) return;\n",
              "\n",
              "        const docLinkHtml = 'Like what you see? Visit the ' +\n",
              "          '<a target=\"_blank\" href=https://colab.research.google.com/notebooks/data_table.ipynb>data table notebook</a>'\n",
              "          + ' to learn more about interactive tables.';\n",
              "        element.innerHTML = '';\n",
              "        dataTable['output_type'] = 'display_data';\n",
              "        await google.colab.output.renderOutput(dataTable, element);\n",
              "        const docLink = document.createElement('div');\n",
              "        docLink.innerHTML = docLinkHtml;\n",
              "        element.appendChild(docLink);\n",
              "      }\n",
              "    </script>\n",
              "  </div>\n",
              "\n",
              "\n",
              "    <div id=\"df-006bf3cd-014d-4534-a7de-64efb96f576a\">\n",
              "      <button class=\"colab-df-quickchart\" onclick=\"quickchart('df-006bf3cd-014d-4534-a7de-64efb96f576a')\"\n",
              "                title=\"Suggest charts\"\n",
              "                style=\"display:none;\">\n",
              "\n",
              "<svg xmlns=\"http://www.w3.org/2000/svg\" height=\"24px\"viewBox=\"0 0 24 24\"\n",
              "     width=\"24px\">\n",
              "    <g>\n",
              "        <path d=\"M19 3H5c-1.1 0-2 .9-2 2v14c0 1.1.9 2 2 2h14c1.1 0 2-.9 2-2V5c0-1.1-.9-2-2-2zM9 17H7v-7h2v7zm4 0h-2V7h2v10zm4 0h-2v-4h2v4z\"/>\n",
              "    </g>\n",
              "</svg>\n",
              "      </button>\n",
              "\n",
              "<style>\n",
              "  .colab-df-quickchart {\n",
              "      --bg-color: #E8F0FE;\n",
              "      --fill-color: #1967D2;\n",
              "      --hover-bg-color: #E2EBFA;\n",
              "      --hover-fill-color: #174EA6;\n",
              "      --disabled-fill-color: #AAA;\n",
              "      --disabled-bg-color: #DDD;\n",
              "  }\n",
              "\n",
              "  [theme=dark] .colab-df-quickchart {\n",
              "      --bg-color: #3B4455;\n",
              "      --fill-color: #D2E3FC;\n",
              "      --hover-bg-color: #434B5C;\n",
              "      --hover-fill-color: #FFFFFF;\n",
              "      --disabled-bg-color: #3B4455;\n",
              "      --disabled-fill-color: #666;\n",
              "  }\n",
              "\n",
              "  .colab-df-quickchart {\n",
              "    background-color: var(--bg-color);\n",
              "    border: none;\n",
              "    border-radius: 50%;\n",
              "    cursor: pointer;\n",
              "    display: none;\n",
              "    fill: var(--fill-color);\n",
              "    height: 32px;\n",
              "    padding: 0;\n",
              "    width: 32px;\n",
              "  }\n",
              "\n",
              "  .colab-df-quickchart:hover {\n",
              "    background-color: var(--hover-bg-color);\n",
              "    box-shadow: 0 1px 2px rgba(60, 64, 67, 0.3), 0 1px 3px 1px rgba(60, 64, 67, 0.15);\n",
              "    fill: var(--button-hover-fill-color);\n",
              "  }\n",
              "\n",
              "  .colab-df-quickchart-complete:disabled,\n",
              "  .colab-df-quickchart-complete:disabled:hover {\n",
              "    background-color: var(--disabled-bg-color);\n",
              "    fill: var(--disabled-fill-color);\n",
              "    box-shadow: none;\n",
              "  }\n",
              "\n",
              "  .colab-df-spinner {\n",
              "    border: 2px solid var(--fill-color);\n",
              "    border-color: transparent;\n",
              "    border-bottom-color: var(--fill-color);\n",
              "    animation:\n",
              "      spin 1s steps(1) infinite;\n",
              "  }\n",
              "\n",
              "  @keyframes spin {\n",
              "    0% {\n",
              "      border-color: transparent;\n",
              "      border-bottom-color: var(--fill-color);\n",
              "      border-left-color: var(--fill-color);\n",
              "    }\n",
              "    20% {\n",
              "      border-color: transparent;\n",
              "      border-left-color: var(--fill-color);\n",
              "      border-top-color: var(--fill-color);\n",
              "    }\n",
              "    30% {\n",
              "      border-color: transparent;\n",
              "      border-left-color: var(--fill-color);\n",
              "      border-top-color: var(--fill-color);\n",
              "      border-right-color: var(--fill-color);\n",
              "    }\n",
              "    40% {\n",
              "      border-color: transparent;\n",
              "      border-right-color: var(--fill-color);\n",
              "      border-top-color: var(--fill-color);\n",
              "    }\n",
              "    60% {\n",
              "      border-color: transparent;\n",
              "      border-right-color: var(--fill-color);\n",
              "    }\n",
              "    80% {\n",
              "      border-color: transparent;\n",
              "      border-right-color: var(--fill-color);\n",
              "      border-bottom-color: var(--fill-color);\n",
              "    }\n",
              "    90% {\n",
              "      border-color: transparent;\n",
              "      border-bottom-color: var(--fill-color);\n",
              "    }\n",
              "  }\n",
              "</style>\n",
              "\n",
              "      <script>\n",
              "        async function quickchart(key) {\n",
              "          const quickchartButtonEl =\n",
              "            document.querySelector('#' + key + ' button');\n",
              "          quickchartButtonEl.disabled = true;  // To prevent multiple clicks.\n",
              "          quickchartButtonEl.classList.add('colab-df-spinner');\n",
              "          try {\n",
              "            const charts = await google.colab.kernel.invokeFunction(\n",
              "                'suggestCharts', [key], {});\n",
              "          } catch (error) {\n",
              "            console.error('Error during call to suggestCharts:', error);\n",
              "          }\n",
              "          quickchartButtonEl.classList.remove('colab-df-spinner');\n",
              "          quickchartButtonEl.classList.add('colab-df-quickchart-complete');\n",
              "        }\n",
              "        (() => {\n",
              "          let quickchartButtonEl =\n",
              "            document.querySelector('#df-006bf3cd-014d-4534-a7de-64efb96f576a button');\n",
              "          quickchartButtonEl.style.display =\n",
              "            google.colab.kernel.accessAllowed ? 'block' : 'none';\n",
              "        })();\n",
              "      </script>\n",
              "    </div>\n",
              "    </div>\n",
              "  </div>\n"
            ],
            "application/vnd.google.colaboratory.intrinsic+json": {
              "type": "dataframe",
              "variable_name": "data",
              "summary": "{\n  \"name\": \"data\",\n  \"rows\": 93496,\n  \"fields\": [\n    {\n      \"column\": \"Index\",\n      \"properties\": {\n        \"dtype\": \"number\",\n        \"std\": 26990,\n        \"min\": 0,\n        \"max\": 93495,\n        \"num_unique_values\": 93496,\n        \"samples\": [\n          13190,\n          18023,\n          69988\n        ],\n        \"semantic_type\": \"\",\n        \"description\": \"\"\n      }\n    },\n    {\n      \"column\": \"Sentence\",\n      \"properties\": {\n        \"dtype\": \"string\",\n        \"num_unique_values\": 89284,\n        \"samples\": [\n          \"\\u101a\\u1031\\u102c\\u1000\\u103a\\u103b\\u102c\\u1038 \\u1010\\u103d\\u1031 \\u1015\\u1032 \\u1000\\u103d\\u102c \\u1018\\u102c\\u1019\\u103e \\u1019\\u1030\\u1019\\u1014\\u1031\\u1014\\u1032\\u1037 \\u1016\\u1004\\u103a\\u101c\\u102d\\u102f\\u1038 \\u1000\\u103c\\u1019\\u101a\\u103a\",\n          \"DG Baccarat \\u1014\\u1032\\u1037 \\u1021\\u1010\\u100a\\u103a\\u1021\\u1000\\u103c\\u100a\\u103a \\u1010\\u1021\\u102c\\u1038\\u1019\\u103c\\u1010\\u103a\\u101e\\u103d\\u102c\\u1038 \\u1010\\u1032\\u1037 \\u1019\\u1014\\u103a\\u1018\\u102c \\u101c\\u1031\\u1038 TTR \\u1000\\u1010\\u1031\\u102c\\u1037 505000 ks \\u1011\\u102f\\u1015\\u103a\\u101e\\u103d\\u102c\\u1038\\u1010\\u102c \\u1018\\u1032 \\u1016\\u103c\\u1005\\u103a\\u1015\\u102b\\u1010\\u101a\\u103a \\u101b\\u103e\\u1004\\u103a\\u1037\",\n          \"\\u1000\\u103b\\u103d\\u1032\\u1002\\u102d\\u1019\\u103a\\u1038 \\u1000\\u1011\\u1015\\u103a\\u1015\\u103c\\u102e\\u1038 1,500,000 \\u101e\\u102d\\u1014\\u103a\\u1038 \\u1010\\u1005\\u103a\\u1001\\u102b\\u1010\\u100a\\u103a\\u1038\\u1015\\u1031\\u102b\\u1000\\u103a\\u101e\\u103d\\u102c\\u1038\\u1015\\u103c\\u102e\"\n        ],\n        \"semantic_type\": \"\",\n        \"description\": \"\"\n      }\n    },\n    {\n      \"column\": \"Label\",\n      \"properties\": {\n        \"dtype\": \"category\",\n        \"num_unique_values\": 13,\n        \"samples\": [\n          \"Entertainment\",\n          \"Political\",\n          \"Business\"\n        ],\n        \"semantic_type\": \"\",\n        \"description\": \"\"\n      }\n    },\n    {\n      \"column\": \"encoded_Sentence\",\n      \"properties\": {\n        \"dtype\": \"string\",\n        \"num_unique_values\": 87184,\n        \"samples\": [\n          \"student expos expertis undercar electr engin perform engin repair hvac\",\n          \"\\u1021\\u101e\\u1031\\u1038\\u1005\\u102d\\u1010\\u103a cb \\u101d\\u101a\\u103a\\u101a\\u1030 \\u101b\\u101e \\u101d\\u101a\\u103a\\u101a\\u1030 \\u1021\\u102c\\u1038\\u1015\\u1031\\u1038 \\u101b\\u103e\\u1004\\u103a\\u1037\",\n          \"prime \\u1011\\u102f\\u1036\\u1038\\u1005\\u1036 \\u1021\\u1010\\u102d\\u102f\\u1004\\u103a\\u1038 \\u1007\\u102c\\u1010\\u103a\\u101c\\u1019\\u103a\\u1038 \\u1000\\u101a\\u103a \\u101e\\u103d\\u1031\\u1038\\u1011\\u103d\\u1000\\u103a\\u101e\\u1036\\u101a\\u102d\\u102f \\u1000\\u103d\\u1000\\u103a \\u1000\\u101a\\u103a prime \\u1021\\u1032\\u1037 \\u1005\\u102d\\u1010\\u103a\\u1001\\u103b\"\n        ],\n        \"semantic_type\": \"\",\n        \"description\": \"\"\n      }\n    },\n    {\n      \"column\": \"encoded_Label\",\n      \"properties\": {\n        \"dtype\": \"number\",\n        \"std\": 3,\n        \"min\": 0,\n        \"max\": 12,\n        \"num_unique_values\": 13,\n        \"samples\": [\n          1,\n          10,\n          3\n        ],\n        \"semantic_type\": \"\",\n        \"description\": \"\"\n      }\n    }\n  ]\n}"
            }
          },
          "metadata": {},
          "execution_count": 12
        }
      ],
      "source": [
        "data.head(3)"
      ]
    },
    {
      "cell_type": "code",
      "execution_count": 13,
      "id": "444b56f7",
      "metadata": {
        "id": "444b56f7"
      },
      "outputs": [],
      "source": [
        "# to avoid data leakage\n",
        "data = data.drop_duplicates(subset='encoded_Sentence')\n",
        "X = data['encoded_Sentence']\n",
        "y = data['encoded_Label']\n",
        "\n",
        "X_train_text, X_test_text, y_train, y_test = train_test_split( X, y, test_size=0.2, random_state=42, stratify=y)\n",
        "X_train_text = X_train_text.apply(lambda x: ' '.join(x) if isinstance(x, list) else x)\n",
        "X_test_text = X_test_text.apply(lambda x: ' '.join(x) if isinstance(x, list) else x)\n",
        "\n",
        "vectorizer = TfidfVectorizer(max_features=10000,max_df=0.85,min_df=2,ngram_range=(1, 2))\n",
        "X_train = vectorizer.fit_transform(X_train_text)\n",
        "X_test = vectorizer.transform(X_test_text)\n",
        "joblib.dump(vectorizer, 'vectorizer.pkl')\n",
        "y_train = y_train.to_numpy()\n",
        "y_test = y_test.to_numpy()"
      ]
    },
    {
      "cell_type": "code",
      "source": [
        "train_set = set(X_train_text)\n",
        "test_set = set(X_test_text)\n",
        "overlap = train_set.intersection(test_set)\n",
        "\n",
        "print(f\"Overlap: {len(overlap)}\")  # Should be zero or very small"
      ],
      "metadata": {
        "id": "eXHmZterua0R",
        "outputId": "d9d489e3-f112-4a86-b9eb-5989c6265afc",
        "colab": {
          "base_uri": "https://localhost:8080/"
        }
      },
      "id": "eXHmZterua0R",
      "execution_count": 14,
      "outputs": [
        {
          "output_type": "stream",
          "name": "stdout",
          "text": [
            "Overlap: 0\n"
          ]
        }
      ]
    },
    {
      "cell_type": "code",
      "source": [
        "len(train_set)"
      ],
      "metadata": {
        "id": "M0e_H1eYufbh",
        "outputId": "dde795ec-6fca-4b3d-cf6a-e932bec54d23",
        "colab": {
          "base_uri": "https://localhost:8080/"
        }
      },
      "id": "M0e_H1eYufbh",
      "execution_count": 15,
      "outputs": [
        {
          "output_type": "execute_result",
          "data": {
            "text/plain": [
              "69747"
            ]
          },
          "metadata": {},
          "execution_count": 15
        }
      ]
    },
    {
      "cell_type": "code",
      "source": [
        "smote = SMOTE(random_state=42)\n",
        "X_res, y_res = smote.fit_resample(X_train, y_train)"
      ],
      "metadata": {
        "colab": {
          "base_uri": "https://localhost:8080/"
        },
        "id": "EE2Vfe0voSuW",
        "outputId": "d158ca7f-c96d-4f83-c3b8-b4bf8e66c22c"
      },
      "id": "EE2Vfe0voSuW",
      "execution_count": 16,
      "outputs": [
        {
          "output_type": "stream",
          "name": "stderr",
          "text": [
            "2025/05/15 07:56:50 INFO mlflow.utils.autologging_utils: Created MLflow autologging run with ID '2504f6e5c1644aa28ea9129fb4159e85', which will track hyperparameters, performance metrics, model artifacts, and lineage information for the current sklearn workflow\n",
            "2025/05/15 07:56:53 WARNING mlflow.sklearn: Training metrics will not be recorded because training labels were not specified. To automatically record training metrics, provide training labels as inputs to the model training function.\n",
            "2025/05/15 07:56:53 WARNING mlflow.sklearn: Failed to infer model signature: the trained model does not have a `predict` or `transform` function, which is required in order to infer the signature\n",
            "2025/05/15 07:56:53 WARNING mlflow.sklearn: Model was missing function: predict. Not logging python_function flavor!\n",
            "\u001b[31m2025/05/15 07:57:06 WARNING mlflow.models.model: Model logged without a signature and input example. Please set `input_example` parameter when logging the model to auto infer the model signature.\u001b[0m\n"
          ]
        },
        {
          "output_type": "stream",
          "name": "stdout",
          "text": [
            "🏃 View run orderly-ox-277 at: http://172.236.130.98:5000/#/experiments/6/runs/2504f6e5c1644aa28ea9129fb4159e85\n",
            "🧪 View experiment at: http://172.236.130.98:5000/#/experiments/6\n"
          ]
        },
        {
          "output_type": "stream",
          "name": "stderr",
          "text": [
            "2025/05/15 07:57:11 INFO mlflow.utils.autologging_utils: Created MLflow autologging run with ID '574c7efea09b490baea2ba15d68f58ef', which will track hyperparameters, performance metrics, model artifacts, and lineage information for the current sklearn workflow\n",
            "2025/05/15 07:57:12 WARNING mlflow.sklearn: Training metrics will not be recorded because training labels were not specified. To automatically record training metrics, provide training labels as inputs to the model training function.\n",
            "2025/05/15 07:57:12 WARNING mlflow.sklearn: Failed to infer model signature: the trained model does not have a `predict` or `transform` function, which is required in order to infer the signature\n",
            "2025/05/15 07:57:12 WARNING mlflow.sklearn: Model was missing function: predict. Not logging python_function flavor!\n",
            "\u001b[31m2025/05/15 07:57:21 WARNING mlflow.models.model: Model logged without a signature and input example. Please set `input_example` parameter when logging the model to auto infer the model signature.\u001b[0m\n"
          ]
        },
        {
          "output_type": "stream",
          "name": "stdout",
          "text": [
            "🏃 View run amusing-tern-558 at: http://172.236.130.98:5000/#/experiments/6/runs/574c7efea09b490baea2ba15d68f58ef\n",
            "🧪 View experiment at: http://172.236.130.98:5000/#/experiments/6\n"
          ]
        },
        {
          "output_type": "stream",
          "name": "stderr",
          "text": [
            "2025/05/15 07:57:26 INFO mlflow.utils.autologging_utils: Created MLflow autologging run with ID '9dd4419476634ac8b73a240af8e3311a', which will track hyperparameters, performance metrics, model artifacts, and lineage information for the current sklearn workflow\n",
            "2025/05/15 07:57:28 WARNING mlflow.sklearn: Training metrics will not be recorded because training labels were not specified. To automatically record training metrics, provide training labels as inputs to the model training function.\n",
            "2025/05/15 07:57:28 WARNING mlflow.sklearn: Failed to infer model signature: the trained model does not have a `predict` or `transform` function, which is required in order to infer the signature\n",
            "2025/05/15 07:57:28 WARNING mlflow.sklearn: Model was missing function: predict. Not logging python_function flavor!\n",
            "\u001b[31m2025/05/15 07:57:34 WARNING mlflow.models.model: Model logged without a signature and input example. Please set `input_example` parameter when logging the model to auto infer the model signature.\u001b[0m\n"
          ]
        },
        {
          "output_type": "stream",
          "name": "stdout",
          "text": [
            "🏃 View run sedate-sloth-645 at: http://172.236.130.98:5000/#/experiments/6/runs/9dd4419476634ac8b73a240af8e3311a\n",
            "🧪 View experiment at: http://172.236.130.98:5000/#/experiments/6\n"
          ]
        },
        {
          "output_type": "stream",
          "name": "stderr",
          "text": [
            "2025/05/15 07:57:41 INFO mlflow.utils.autologging_utils: Created MLflow autologging run with ID '7613043a4e3d4448b3ab56bb73db82aa', which will track hyperparameters, performance metrics, model artifacts, and lineage information for the current sklearn workflow\n",
            "2025/05/15 07:57:42 WARNING mlflow.sklearn: Training metrics will not be recorded because training labels were not specified. To automatically record training metrics, provide training labels as inputs to the model training function.\n",
            "2025/05/15 07:57:42 WARNING mlflow.sklearn: Failed to infer model signature: the trained model does not have a `predict` or `transform` function, which is required in order to infer the signature\n",
            "2025/05/15 07:57:42 WARNING mlflow.sklearn: Model was missing function: predict. Not logging python_function flavor!\n",
            "\u001b[31m2025/05/15 07:57:48 WARNING mlflow.models.model: Model logged without a signature and input example. Please set `input_example` parameter when logging the model to auto infer the model signature.\u001b[0m\n"
          ]
        },
        {
          "output_type": "stream",
          "name": "stdout",
          "text": [
            "🏃 View run gentle-doe-225 at: http://172.236.130.98:5000/#/experiments/6/runs/7613043a4e3d4448b3ab56bb73db82aa\n",
            "🧪 View experiment at: http://172.236.130.98:5000/#/experiments/6\n"
          ]
        },
        {
          "output_type": "stream",
          "name": "stderr",
          "text": [
            "2025/05/15 07:57:54 INFO mlflow.utils.autologging_utils: Created MLflow autologging run with ID 'ca4f5f1da5924d4bb6f9b9595144b27e', which will track hyperparameters, performance metrics, model artifacts, and lineage information for the current sklearn workflow\n",
            "2025/05/15 07:57:55 WARNING mlflow.sklearn: Training metrics will not be recorded because training labels were not specified. To automatically record training metrics, provide training labels as inputs to the model training function.\n",
            "2025/05/15 07:57:55 WARNING mlflow.sklearn: Failed to infer model signature: the trained model does not have a `predict` or `transform` function, which is required in order to infer the signature\n",
            "2025/05/15 07:57:55 WARNING mlflow.sklearn: Model was missing function: predict. Not logging python_function flavor!\n",
            "\u001b[31m2025/05/15 07:58:02 WARNING mlflow.models.model: Model logged without a signature and input example. Please set `input_example` parameter when logging the model to auto infer the model signature.\u001b[0m\n"
          ]
        },
        {
          "output_type": "stream",
          "name": "stdout",
          "text": [
            "🏃 View run salty-bird-420 at: http://172.236.130.98:5000/#/experiments/6/runs/ca4f5f1da5924d4bb6f9b9595144b27e\n",
            "🧪 View experiment at: http://172.236.130.98:5000/#/experiments/6\n"
          ]
        },
        {
          "output_type": "stream",
          "name": "stderr",
          "text": [
            "2025/05/15 07:58:06 INFO mlflow.utils.autologging_utils: Created MLflow autologging run with ID '420aa49c338746eebbec19ca0d8fdd6c', which will track hyperparameters, performance metrics, model artifacts, and lineage information for the current sklearn workflow\n",
            "2025/05/15 07:58:08 WARNING mlflow.sklearn: Training metrics will not be recorded because training labels were not specified. To automatically record training metrics, provide training labels as inputs to the model training function.\n",
            "2025/05/15 07:58:08 WARNING mlflow.sklearn: Failed to infer model signature: the trained model does not have a `predict` or `transform` function, which is required in order to infer the signature\n",
            "2025/05/15 07:58:08 WARNING mlflow.sklearn: Model was missing function: predict. Not logging python_function flavor!\n",
            "\u001b[31m2025/05/15 07:58:14 WARNING mlflow.models.model: Model logged without a signature and input example. Please set `input_example` parameter when logging the model to auto infer the model signature.\u001b[0m\n"
          ]
        },
        {
          "output_type": "stream",
          "name": "stdout",
          "text": [
            "🏃 View run handsome-pug-609 at: http://172.236.130.98:5000/#/experiments/6/runs/420aa49c338746eebbec19ca0d8fdd6c\n",
            "🧪 View experiment at: http://172.236.130.98:5000/#/experiments/6\n"
          ]
        },
        {
          "output_type": "stream",
          "name": "stderr",
          "text": [
            "2025/05/15 07:58:20 INFO mlflow.utils.autologging_utils: Created MLflow autologging run with ID '35852ff5e7bf4d8cb298fa440c209adf', which will track hyperparameters, performance metrics, model artifacts, and lineage information for the current sklearn workflow\n",
            "2025/05/15 07:58:21 WARNING mlflow.sklearn: Training metrics will not be recorded because training labels were not specified. To automatically record training metrics, provide training labels as inputs to the model training function.\n",
            "2025/05/15 07:58:21 WARNING mlflow.sklearn: Failed to infer model signature: the trained model does not have a `predict` or `transform` function, which is required in order to infer the signature\n",
            "2025/05/15 07:58:21 WARNING mlflow.sklearn: Model was missing function: predict. Not logging python_function flavor!\n",
            "\u001b[31m2025/05/15 07:58:29 WARNING mlflow.models.model: Model logged without a signature and input example. Please set `input_example` parameter when logging the model to auto infer the model signature.\u001b[0m\n"
          ]
        },
        {
          "output_type": "stream",
          "name": "stdout",
          "text": [
            "🏃 View run gentle-goose-533 at: http://172.236.130.98:5000/#/experiments/6/runs/35852ff5e7bf4d8cb298fa440c209adf\n",
            "🧪 View experiment at: http://172.236.130.98:5000/#/experiments/6\n"
          ]
        },
        {
          "output_type": "stream",
          "name": "stderr",
          "text": [
            "2025/05/15 07:58:34 INFO mlflow.utils.autologging_utils: Created MLflow autologging run with ID '0e4b61fcfb92471189bd4847ff28b702', which will track hyperparameters, performance metrics, model artifacts, and lineage information for the current sklearn workflow\n",
            "2025/05/15 07:58:36 WARNING mlflow.sklearn: Training metrics will not be recorded because training labels were not specified. To automatically record training metrics, provide training labels as inputs to the model training function.\n",
            "2025/05/15 07:58:36 WARNING mlflow.sklearn: Failed to infer model signature: the trained model does not have a `predict` or `transform` function, which is required in order to infer the signature\n",
            "2025/05/15 07:58:36 WARNING mlflow.sklearn: Model was missing function: predict. Not logging python_function flavor!\n",
            "\u001b[31m2025/05/15 07:58:43 WARNING mlflow.models.model: Model logged without a signature and input example. Please set `input_example` parameter when logging the model to auto infer the model signature.\u001b[0m\n"
          ]
        },
        {
          "output_type": "stream",
          "name": "stdout",
          "text": [
            "🏃 View run angry-gnu-7 at: http://172.236.130.98:5000/#/experiments/6/runs/0e4b61fcfb92471189bd4847ff28b702\n",
            "🧪 View experiment at: http://172.236.130.98:5000/#/experiments/6\n"
          ]
        },
        {
          "output_type": "stream",
          "name": "stderr",
          "text": [
            "2025/05/15 07:58:49 INFO mlflow.utils.autologging_utils: Created MLflow autologging run with ID '01b3575bb0b549b2bc041fdc7d6c83df', which will track hyperparameters, performance metrics, model artifacts, and lineage information for the current sklearn workflow\n",
            "2025/05/15 07:58:50 WARNING mlflow.sklearn: Training metrics will not be recorded because training labels were not specified. To automatically record training metrics, provide training labels as inputs to the model training function.\n",
            "2025/05/15 07:58:50 WARNING mlflow.sklearn: Failed to infer model signature: the trained model does not have a `predict` or `transform` function, which is required in order to infer the signature\n",
            "2025/05/15 07:58:50 WARNING mlflow.sklearn: Model was missing function: predict. Not logging python_function flavor!\n",
            "\u001b[31m2025/05/15 07:58:57 WARNING mlflow.models.model: Model logged without a signature and input example. Please set `input_example` parameter when logging the model to auto infer the model signature.\u001b[0m\n"
          ]
        },
        {
          "output_type": "stream",
          "name": "stdout",
          "text": [
            "🏃 View run bedecked-calf-11 at: http://172.236.130.98:5000/#/experiments/6/runs/01b3575bb0b549b2bc041fdc7d6c83df\n",
            "🧪 View experiment at: http://172.236.130.98:5000/#/experiments/6\n"
          ]
        },
        {
          "output_type": "stream",
          "name": "stderr",
          "text": [
            "2025/05/15 07:59:02 INFO mlflow.utils.autologging_utils: Created MLflow autologging run with ID 'f9c1ef8aa5cb4f27ba4b9c860ee6c267', which will track hyperparameters, performance metrics, model artifacts, and lineage information for the current sklearn workflow\n",
            "2025/05/15 07:59:04 WARNING mlflow.sklearn: Training metrics will not be recorded because training labels were not specified. To automatically record training metrics, provide training labels as inputs to the model training function.\n",
            "2025/05/15 07:59:04 WARNING mlflow.sklearn: Failed to infer model signature: the trained model does not have a `predict` or `transform` function, which is required in order to infer the signature\n",
            "2025/05/15 07:59:04 WARNING mlflow.sklearn: Model was missing function: predict. Not logging python_function flavor!\n",
            "\u001b[31m2025/05/15 07:59:12 WARNING mlflow.models.model: Model logged without a signature and input example. Please set `input_example` parameter when logging the model to auto infer the model signature.\u001b[0m\n"
          ]
        },
        {
          "output_type": "stream",
          "name": "stdout",
          "text": [
            "🏃 View run youthful-shrike-831 at: http://172.236.130.98:5000/#/experiments/6/runs/f9c1ef8aa5cb4f27ba4b9c860ee6c267\n",
            "🧪 View experiment at: http://172.236.130.98:5000/#/experiments/6\n"
          ]
        },
        {
          "output_type": "stream",
          "name": "stderr",
          "text": [
            "2025/05/15 07:59:18 INFO mlflow.utils.autologging_utils: Created MLflow autologging run with ID '375f0b10110b41658c59cb77539d4c11', which will track hyperparameters, performance metrics, model artifacts, and lineage information for the current sklearn workflow\n",
            "2025/05/15 07:59:19 WARNING mlflow.sklearn: Training metrics will not be recorded because training labels were not specified. To automatically record training metrics, provide training labels as inputs to the model training function.\n",
            "2025/05/15 07:59:19 WARNING mlflow.sklearn: Failed to infer model signature: the trained model does not have a `predict` or `transform` function, which is required in order to infer the signature\n",
            "2025/05/15 07:59:19 WARNING mlflow.sklearn: Model was missing function: predict. Not logging python_function flavor!\n",
            "\u001b[31m2025/05/15 07:59:26 WARNING mlflow.models.model: Model logged without a signature and input example. Please set `input_example` parameter when logging the model to auto infer the model signature.\u001b[0m\n"
          ]
        },
        {
          "output_type": "stream",
          "name": "stdout",
          "text": [
            "🏃 View run puzzled-pug-170 at: http://172.236.130.98:5000/#/experiments/6/runs/375f0b10110b41658c59cb77539d4c11\n",
            "🧪 View experiment at: http://172.236.130.98:5000/#/experiments/6\n"
          ]
        },
        {
          "output_type": "stream",
          "name": "stderr",
          "text": [
            "2025/05/15 07:59:30 INFO mlflow.utils.autologging_utils: Created MLflow autologging run with ID '6d8b3a4b431240c59a0b5e4a45078502', which will track hyperparameters, performance metrics, model artifacts, and lineage information for the current sklearn workflow\n",
            "2025/05/15 07:59:31 WARNING mlflow.sklearn: Training metrics will not be recorded because training labels were not specified. To automatically record training metrics, provide training labels as inputs to the model training function.\n",
            "2025/05/15 07:59:31 WARNING mlflow.sklearn: Failed to infer model signature: the trained model does not have a `predict` or `transform` function, which is required in order to infer the signature\n",
            "2025/05/15 07:59:31 WARNING mlflow.sklearn: Model was missing function: predict. Not logging python_function flavor!\n",
            "\u001b[31m2025/05/15 07:59:37 WARNING mlflow.models.model: Model logged without a signature and input example. Please set `input_example` parameter when logging the model to auto infer the model signature.\u001b[0m\n"
          ]
        },
        {
          "output_type": "stream",
          "name": "stdout",
          "text": [
            "🏃 View run clean-ant-917 at: http://172.236.130.98:5000/#/experiments/6/runs/6d8b3a4b431240c59a0b5e4a45078502\n",
            "🧪 View experiment at: http://172.236.130.98:5000/#/experiments/6\n"
          ]
        }
      ]
    },
    {
      "cell_type": "code",
      "execution_count": 17,
      "id": "ec850ba1",
      "metadata": {
        "id": "ec850ba1",
        "outputId": "7cfc4587-fe13-4515-ec16-305cd2bb3ab6",
        "colab": {
          "base_uri": "https://localhost:8080/"
        }
      },
      "outputs": [
        {
          "output_type": "stream",
          "name": "stdout",
          "text": [
            "[LibLinear]"
          ]
        },
        {
          "output_type": "stream",
          "name": "stderr",
          "text": [
            "\u001b[31m2025/05/15 08:01:22 WARNING mlflow.models.model: Model logged without a signature and input example. Please set `input_example` parameter when logging the model to auto infer the model signature.\u001b[0m\n"
          ]
        },
        {
          "output_type": "stream",
          "name": "stdout",
          "text": [
            "Run logged to MLflow.\n",
            "🏃 View run adaptable-loon-952 at: http://172.236.130.98:5000/#/experiments/6/runs/06e8283191674c6785d4b015910e1b8f\n",
            "🧪 View experiment at: http://172.236.130.98:5000/#/experiments/6\n"
          ]
        }
      ],
      "source": [
        "with mlflow.start_run():\n",
        "    clf = LinearSVC(class_weight='balanced', verbose=1, max_iter=10000)\n",
        "    clf.fit(X_res, y_res)\n",
        "\n",
        "    y_pred = clf.predict(X_test)\n",
        "    acc = accuracy_score(y_test, y_pred)\n",
        "\n",
        "    mlflow.log_param(\"model_type\", \"LinearSVC\")\n",
        "    mlflow.log_param(\"class_weight\", \"balanced\")\n",
        "\n",
        "    mlflow.log_metric(\"accuracy\", acc)\n",
        "\n",
        "    report = classification_report(y_test, y_pred, output_dict=True)\n",
        "    for label, scores in report.items():\n",
        "        if isinstance(scores, dict):\n",
        "            for metric, value in scores.items():\n",
        "                mlflow.log_metric(f\"{label}_{metric}\", value)\n",
        "\n",
        "    mlflow.sklearn.log_model(clf, \"model\")\n",
        "\n",
        "    print(\"Run logged to MLflow.\")\n"
      ]
    },
    {
      "cell_type": "code",
      "execution_count": 18,
      "id": "2c21485e",
      "metadata": {
        "id": "2c21485e"
      },
      "outputs": [],
      "source": [
        "# import joblib\n",
        "\n",
        "# joblib.dump(clf, f'svm_{acc}.pkl')"
      ]
    },
    {
      "cell_type": "code",
      "source": [
        "# import seaborn as sns\n",
        "# import matplotlib.pyplot as plt\n",
        "\n",
        "# sns.countplot(x=y)\n",
        "# plt.xticks(rotation=45)\n",
        "# plt.title(\"Class distribution\")\n",
        "# plt.show()\n"
      ],
      "metadata": {
        "id": "PMoO0vQlcsmP"
      },
      "id": "PMoO0vQlcsmP",
      "execution_count": 19,
      "outputs": []
    },
    {
      "cell_type": "code",
      "source": [
        "# from lightgbm import LGBMClassifier\n",
        "\n",
        "# with mlflow.start_run():\n",
        "#     clf = LGBMClassifier(class_weight='balanced', n_jobs=-1)\n",
        "#     clf.fit(X_res, y_res)\n",
        "\n",
        "#     y_pred = clf.predict(X_test)\n",
        "#     acc = accuracy_score(y_test, y_pred)\n",
        "\n",
        "#     mlflow.log_param(\"model_type\", \"LGBMClassifier\")\n",
        "#     mlflow.log_param(\"class_weight\", \"balanced\")\n",
        "\n",
        "#     mlflow.log_metric(\"accuracy\", acc)\n",
        "\n",
        "#     report = classification_report(y_test, y_pred, output_dict=True)\n",
        "#     for label, scores in report.items():\n",
        "#         if isinstance(scores, dict):\n",
        "#             for metric, value in scores.items():\n",
        "#                 mlflow.log_metric(f\"{label}_{metric}\", value)\n",
        "\n",
        "#     mlflow.sklearn.log_model(clf, \"model\")\n",
        "\n",
        "#     print(\"Run logged to MLflow.\")\n"
      ],
      "metadata": {
        "id": "Jnh14W1P3jWb"
      },
      "id": "Jnh14W1P3jWb",
      "execution_count": 20,
      "outputs": []
    },
    {
      "cell_type": "code",
      "source": [
        "# from sklearn.metrics import classification_report\n",
        "# print(classification_report(y_test, y_pred, digits=4))\n"
      ],
      "metadata": {
        "id": "80Qd9xBVqxFp"
      },
      "id": "80Qd9xBVqxFp",
      "execution_count": 21,
      "outputs": []
    },
    {
      "cell_type": "code",
      "source": [
        "# joblib.dump(clf, f'LGBM_{acc}.pkl')"
      ],
      "metadata": {
        "id": "8Y5tPvNP3nuI"
      },
      "id": "8Y5tPvNP3nuI",
      "execution_count": 22,
      "outputs": []
    },
    {
      "cell_type": "code",
      "source": [
        "# from sklearn.neighbors import KNeighborsClassifier\n",
        "\n",
        "# knn = KNeighborsClassifier(n_neighbors=5, n_jobs=-1)\n",
        "\n",
        "# with mlflow.start_run():\n",
        "#     knn.fit(X_res, y_res)\n",
        "\n",
        "#     y_pred = clf.predict(X_test)\n",
        "#     acc = accuracy_score(y_test, y_pred)\n",
        "\n",
        "#     mlflow.log_param(\"model_type\", \"KnnClassifier\")\n",
        "#     mlflow.log_param(\"class_weight\", \"balanced\")\n",
        "\n",
        "#     mlflow.log_metric(\"accuracy\", acc)\n",
        "\n",
        "#     report = classification_report(y_test, y_pred, output_dict=True)\n",
        "#     for label, scores in report.items():\n",
        "#         if isinstance(scores, dict):\n",
        "#             for metric, value in scores.items():\n",
        "#                 mlflow.log_metric(f\"{label}_{metric}\", value)\n",
        "\n",
        "#     mlflow.sklearn.log_model(clf, \"model\")\n",
        "\n",
        "#     print(\"Run logged to MLflow.\")\n"
      ],
      "metadata": {
        "id": "Zh4NY6nz8eZQ"
      },
      "id": "Zh4NY6nz8eZQ",
      "execution_count": 23,
      "outputs": []
    },
    {
      "cell_type": "code",
      "source": [
        "# joblib.dump(clf, f'knn_{acc}.pkl')"
      ],
      "metadata": {
        "id": "mtZec9jb8ooY"
      },
      "id": "mtZec9jb8ooY",
      "execution_count": 24,
      "outputs": []
    },
    {
      "cell_type": "code",
      "source": [
        "# from sklearn.ensemble import RandomForestClassifier\n",
        "\n",
        "# with mlflow.start_run():\n",
        "#     clf = RandomForestClassifier(n_estimators=100,criterion='gini',n_jobs=-1,class_weight='balanced')\n",
        "#     clf.fit(X_res, y_res)\n",
        "\n",
        "#     y_pred = clf.predict(X_test)\n",
        "#     acc = accuracy_score(y_test, y_pred)\n",
        "\n",
        "#     mlflow.log_param(\"model_type\", \"RFClassifier\")\n",
        "\n",
        "#     mlflow.log_metric(\"accuracy\", acc)\n",
        "\n",
        "#     report = classification_report(y_test, y_pred, output_dict=True)\n",
        "#     for label, scores in report.items():\n",
        "#         if isinstance(scores, dict):\n",
        "#             for metric, value in scores.items():\n",
        "#                 mlflow.log_metric(f\"{label}_{metric}\", value)\n",
        "\n",
        "#     mlflow.sklearn.log_model(clf, \"model\")\n",
        "\n",
        "#     print(\"Run logged to MLflow.\")\n"
      ],
      "metadata": {
        "id": "n1G1uCKo1O0E"
      },
      "id": "n1G1uCKo1O0E",
      "execution_count": 25,
      "outputs": []
    },
    {
      "cell_type": "code",
      "source": [
        "# joblib.dump(clf, f'RFCzip_{acc}.pkl',compress=('zlib',3))"
      ],
      "metadata": {
        "id": "7yGsvCH929s-"
      },
      "id": "7yGsvCH929s-",
      "execution_count": 26,
      "outputs": []
    },
    {
      "cell_type": "code",
      "source": [
        "# rf_clf = joblib.load('/content/drive/MyDrive/Datasets/RFCzip_0.6953604404427367.pkl')\n",
        "# knn_clf = joblib.load('/content/drive/MyDrive/Datasets/knn_0.7507025291047772.pkl')\n",
        "# svm_clf = joblib.load('/content/drive/MyDrive/Datasets/svm_0.7571830016631301.pkl')\n",
        "# lgtm = joblib.load('/content/drive/MyDrive/Datasets/LGBM_0.7507025291047772.pkl')\n",
        "# vectorizers = joblib.load('/content/drive/MyDrive/Datasets/vectorizer.pkl')\n",
        "\n",
        "# models = {\n",
        "#     \"Random Forest\": rf_clf,\n",
        "#     \"KNN\": knn_clf,\n",
        "#     \"LightGBM\": lgtm,\n",
        "#     \"SVM\":svm_clf\n",
        "# }\n"
      ],
      "metadata": {
        "id": "TLmwGsgkpNrs"
      },
      "id": "TLmwGsgkpNrs",
      "execution_count": 27,
      "outputs": []
    },
    {
      "cell_type": "code",
      "source": [
        "# test_sentences = \"ဗုံးပေါက်ကွဲတဲ့ပုံစံအရ ရှောင်လို့တိမ်းလို့ တော်တော် မလွယ်လောက်ဘူး။ အစအနမှန်ထားတာတွေ ပွစာကြဲပြီးတော့မှ ဟိုးဘက်ခပ်လှမ်းလှမ်းမှာရှိတဲ့ ထန်းပင်တွေပါ ပြတ်ထွက်တာဆိုတော့ ကလေးတွေက စာသင်ရင်း အုံးကနဲကြားလိုက်တယ်၊ ဗြုန်းကနဲ သူတို့ အသက်ထွက်သွားတဲ့ အနေအထားရှင့်။\"\n",
        "# preprocced_sentence = preprocessor.preprocessing(test_sentences)\n",
        "# vec_sent = vectorizers.transform([preprocced_sentence])\n",
        "\n",
        "# for name, model in models.items():\n",
        "#     pred = model.predict(vec_sent)[0]\n",
        "#     print(pred)\n",
        "#     label = [k for k, v in map_label.items() if v == pred][0]\n",
        "#     print(f\"{name} Prediction: {label}\")"
      ],
      "metadata": {
        "id": "eHqXbvHUqLfP"
      },
      "id": "eHqXbvHUqLfP",
      "execution_count": 28,
      "outputs": []
    },
    {
      "cell_type": "code",
      "source": [
        "from sklearn.metrics import confusion_matrix, ConfusionMatrixDisplay\n",
        "\n",
        "# y_pred = model.predict(X_test)\n",
        "ConfusionMatrixDisplay.from_predictions(y_test, y_pred, display_labels=map_label.keys())\n"
      ],
      "metadata": {
        "id": "14S2neaI7mPD",
        "outputId": "c2012870-78fc-4a87-f454-7699994f7e7f",
        "colab": {
          "base_uri": "https://localhost:8080/",
          "height": 467
        }
      },
      "id": "14S2neaI7mPD",
      "execution_count": 30,
      "outputs": [
        {
          "output_type": "execute_result",
          "data": {
            "text/plain": [
              "<sklearn.metrics._plot.confusion_matrix.ConfusionMatrixDisplay at 0x7d23ac6394d0>"
            ]
          },
          "metadata": {},
          "execution_count": 30
        },
        {
          "output_type": "display_data",
          "data": {
            "text/plain": [
              "<Figure size 640x480 with 2 Axes>"
            ],
            "image/png": "[encoded data removed]"
          },
          "metadata": {}
        }
      ]
    }
  ],
  "metadata": {
    "kernelspec": {
      "display_name": "Python 3",
      "name": "python3"
    },
    "language_info": {
      "codemirror_mode": {
        "name": "ipython",
        "version": 3
      },
      "file_extension": ".py",
      "mimetype": "text/x-python",
      "name": "python",
      "nbconvert_exporter": "python",
      "pygments_lexer": "ipython3",
      "version": "3.11.9"
    },
    "colab": {
      "provenance": [],
      "gpuType": "T4"
    },
    "accelerator": "GPU"
  },
  "nbformat": 4,
  "nbformat_minor": 5
}